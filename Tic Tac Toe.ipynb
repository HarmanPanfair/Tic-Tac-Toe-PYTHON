{
 "cells": [
  {
   "cell_type": "code",
   "execution_count": 1,
   "metadata": {},
   "outputs": [],
   "source": [
    "# CODE FOR TIC TAC TOE\n",
    "\n",
    "#STEP 1: Creating a board. \n",
    "\n",
    "from IPython.display import clear_output\n",
    "\n",
    "def display_board(board):\n",
    "    clear_output()\n",
    "    print(board[1]+'|'+board[2]+'|'+board[3])\n",
    "    print('- - -')\n",
    "    print(board[4]+'|'+board[5]+'|'+board[6])\n",
    "    print('- - -')\n",
    "    print(board[7]+'|'+board[8]+'|'+board[9])"
   ]
  },
  {
   "cell_type": "code",
   "execution_count": 2,
   "metadata": {},
   "outputs": [
    {
     "name": "stdout",
     "output_type": "stream",
     "text": [
      "X|O|X\n",
      "- - -\n",
      "O|X|O\n",
      "- - -\n",
      "X|O|X\n"
     ]
    }
   ],
   "source": [
    "# STEP 1:Test board for inputs\n",
    "\n",
    "test_board=['#','X','O','X','O','X','O','X','O','X']\n",
    "\n",
    "display_board(test_board)"
   ]
  },
  {
   "cell_type": "code",
   "execution_count": 3,
   "metadata": {},
   "outputs": [],
   "source": [
    "#STEP 2:Taking Player Input"
   ]
  },
  {
   "cell_type": "code",
   "execution_count": 4,
   "metadata": {},
   "outputs": [],
   "source": [
    "def player_input():\n",
    "    \n",
    "    '''\n",
    "    OUTPUT=(Player 1 marker,Player 2 marker)\n",
    "    '''\n",
    "    \n",
    "    marker=''\n",
    "    \n",
    "    while marker !='X' and marker!='O':\n",
    "        marker=input('Player1: Choose X or O:').upper()\n",
    "        \n",
    "    if marker=='X':\n",
    "        return('X','O')\n",
    "    else:\n",
    "        return('O','X')"
   ]
  },
  {
   "cell_type": "code",
   "execution_count": null,
   "metadata": {},
   "outputs": [
    {
     "name": "stdout",
     "output_type": "stream",
     "text": [
      "Player1: Choose X or O:\n",
      "Player1: Choose X or O:\n",
      "Player1: Choose X or O:\n",
      "Player1: Choose X or O:\n"
     ]
    }
   ],
   "source": [
    "player1_marker , player2_marker=player_input()"
   ]
  },
  {
   "cell_type": "code",
   "execution_count": 6,
   "metadata": {},
   "outputs": [
    {
     "data": {
      "text/plain": [
       "'O'"
      ]
     },
     "execution_count": 6,
     "metadata": {},
     "output_type": "execute_result"
    }
   ],
   "source": [
    "player2_marker"
   ]
  },
  {
   "cell_type": "code",
   "execution_count": 7,
   "metadata": {},
   "outputs": [
    {
     "data": {
      "text/plain": [
       "'X'"
      ]
     },
     "execution_count": 7,
     "metadata": {},
     "output_type": "execute_result"
    }
   ],
   "source": [
    "player1_marker"
   ]
  },
  {
   "cell_type": "code",
   "execution_count": 8,
   "metadata": {},
   "outputs": [],
   "source": [
    "#STEP 3: Place the marker"
   ]
  },
  {
   "cell_type": "code",
   "execution_count": 9,
   "metadata": {},
   "outputs": [],
   "source": [
    "def place_marker(board,marker,position):\n",
    "    \n",
    "    board[position]=marker"
   ]
  },
  {
   "cell_type": "code",
   "execution_count": 10,
   "metadata": {},
   "outputs": [
    {
     "data": {
      "text/plain": [
       "['#', 'X', 'O', 'X', 'O', 'X', 'O', 'X', 'O', 'X']"
      ]
     },
     "execution_count": 10,
     "metadata": {},
     "output_type": "execute_result"
    }
   ],
   "source": [
    "test_board"
   ]
  },
  {
   "cell_type": "code",
   "execution_count": 11,
   "metadata": {},
   "outputs": [
    {
     "name": "stdout",
     "output_type": "stream",
     "text": [
      "X|$|X\n",
      "- - -\n",
      "O|X|O\n",
      "- - -\n",
      "X|O|X\n"
     ]
    }
   ],
   "source": [
    "place_marker(test_board,'$',2)\n",
    "display_board(test_board)"
   ]
  },
  {
   "cell_type": "code",
   "execution_count": 12,
   "metadata": {},
   "outputs": [],
   "source": [
    "#STEP 4:Check Possible Combination For win"
   ]
  },
  {
   "cell_type": "code",
   "execution_count": 13,
   "metadata": {},
   "outputs": [],
   "source": [
    "def check_win(board,mark):\n",
    "    # WIN TIC TAC TOE?\n",
    "    \n",
    "    # ALL ROWS, and check to see if they all share the same marker?\n",
    "    return((board[1]==mark and board[2]==mark and board[3]==mark) or  #across the top\n",
    "    (board[4]==mark and board[5]==mark and board[6]==mark) or  #across the middle\n",
    "    (board[7]==mark and board[8]==mark and board[9]==mark) or  #across the bottom\n",
    "    # ALL COLUMNS\n",
    "    (board[1]==mark and board[4]==mark and board[7]==mark) or  #down the leftside\n",
    "    (board[2]==mark and board[5]==mark and board[8]==mark) or  #down the middle\n",
    "    (board[3]==mark and board[6]==mark and board[9]==mark) or  #down the right side\n",
    "    #ALL DIAGONALS\n",
    "    (board[1]==mark and board[5]==mark and board[9]==mark) or  #diagonal\n",
    "    (board[7]==mark and board[5]==mark and board[3]==mark))     #diagonal\n",
    "       "
   ]
  },
  {
   "cell_type": "code",
   "execution_count": 14,
   "metadata": {},
   "outputs": [
    {
     "name": "stdout",
     "output_type": "stream",
     "text": [
      "X|$|X\n",
      "- - -\n",
      "O|X|O\n",
      "- - -\n",
      "X|O|X\n"
     ]
    },
    {
     "data": {
      "text/plain": [
       "True"
      ]
     },
     "execution_count": 14,
     "metadata": {},
     "output_type": "execute_result"
    }
   ],
   "source": [
    "display_board(test_board)\n",
    "check_win(test_board,'X')"
   ]
  },
  {
   "cell_type": "code",
   "execution_count": 15,
   "metadata": {},
   "outputs": [],
   "source": [
    "#STEP5: which Player goes first"
   ]
  },
  {
   "cell_type": "code",
   "execution_count": 16,
   "metadata": {},
   "outputs": [],
   "source": [
    "import random\n",
    "\n",
    "def choose_first():\n",
    "    flip=random.randint(0,1)\n",
    "    if flip==0:\n",
    "        return 'Player1'\n",
    "    else:\n",
    "        return 'Player2'"
   ]
  },
  {
   "cell_type": "code",
   "execution_count": 17,
   "metadata": {},
   "outputs": [],
   "source": [
    "#STEP 6:check positon freely available or not\n"
   ]
  },
  {
   "cell_type": "code",
   "execution_count": 18,
   "metadata": {},
   "outputs": [],
   "source": [
    "def check_space(board,position):\n",
    "    return  board[position]==' '\n",
    "    "
   ]
  },
  {
   "cell_type": "code",
   "execution_count": 19,
   "metadata": {},
   "outputs": [],
   "source": [
    "#STEP 7: check board full"
   ]
  },
  {
   "cell_type": "code",
   "execution_count": 20,
   "metadata": {},
   "outputs": [],
   "source": [
    "def check_full_board(board):\n",
    "    \n",
    "    for i in range(1,10):\n",
    "        if check_space(board,i):\n",
    "            return False\n",
    "    \n",
    "    # BOARD IS FULL WE RETURN TRUE\n",
    "    return True"
   ]
  },
  {
   "cell_type": "code",
   "execution_count": 21,
   "metadata": {},
   "outputs": [],
   "source": [
    "#STEP 8:ASK for Player Position"
   ]
  },
  {
   "cell_type": "code",
   "execution_count": 22,
   "metadata": {},
   "outputs": [],
   "source": [
    "def player_choice(board):\n",
    "    position =0\n",
    "    while position not in [1,2,3,4,5,6,7,8,9] or not check_space(board,position):\n",
    "        position = int(input('choose a position: (1-9) '))\n",
    "        \n",
    "    return position"
   ]
  },
  {
   "cell_type": "code",
   "execution_count": 23,
   "metadata": {},
   "outputs": [],
   "source": [
    "#STEP REPLAY THE GAME"
   ]
  },
  {
   "cell_type": "code",
   "execution_count": 24,
   "metadata": {},
   "outputs": [],
   "source": [
    "def replay():\n",
    "    choice=input('Play again?Enter Yes or No')\n",
    "    \n",
    "    return choice=='Yes'"
   ]
  },
  {
   "cell_type": "code",
   "execution_count": 25,
   "metadata": {},
   "outputs": [],
   "source": [
    "#STEP 10:Run The Game"
   ]
  },
  {
   "cell_type": "code",
   "execution_count": 26,
   "metadata": {},
   "outputs": [
    {
     "name": "stdout",
     "output_type": "stream",
     "text": [
      "O|X|O\n",
      "- - -\n",
      "X|O|X\n",
      "- - -\n",
      "O| | \n",
      "PLAYER 2 HAS WON!!\n",
      "Play again?Enter Yes or No8\n"
     ]
    }
   ],
   "source": [
    "#WHILE LOOP TO KEEP GAME RUNNING\n",
    "print('Welcome to Tic Tac Toe')\n",
    "\n",
    "while True:\n",
    "    \n",
    "    #Play the game\n",
    "    \n",
    "    #set everything up(board,who is first,choose markers x or o)\n",
    "    the_board=[\" \"]*10\n",
    "    player1_marker , player2_marker=player_input()\n",
    "    \n",
    "        \n",
    "    turn=choose_first()\n",
    "    print(turn+' will go first')\n",
    "        \n",
    "    play_game=input('Ready to Play? y or n?')\n",
    "        \n",
    "    if play_game=='y':\n",
    "        game_on=True\n",
    "    else:\n",
    "        game_on=False\n",
    "            \n",
    "        ##GAME PLAY\n",
    "        \n",
    "    while game_on:\n",
    "        if turn=='Player 1':\n",
    "            \n",
    "                #show the board\n",
    "            display_board(the_board)\n",
    "            print(\"Player 1's Turn\")\n",
    "                #choose position\n",
    "            position=player_choice(the_board)\n",
    "                \n",
    "                #place marker on position\n",
    "            place_marker(the_board,player1_marker,position)\n",
    "                \n",
    "                #check if they won\n",
    "                \n",
    "            if check_win(the_board,player1_marker):\n",
    "                display_board(the_board)\n",
    "                print('PLAYER 1 HAS WON!!')\n",
    "                game_on=False\n",
    "            else:\n",
    "                if check_full_board(the_board):\n",
    "                    display_board(the_board)\n",
    "                    print(\"Tie Game\")\n",
    "                    game_on=False\n",
    "                else:\n",
    "                    turn='Player 2'\n",
    "            \n",
    "        else:\n",
    "            \n",
    "                #show the board\n",
    "            display_board(the_board)\n",
    "            print(\"Player 2's Turn\")\n",
    "                #choose pasition\n",
    "            position=player_choice(the_board)\n",
    "                \n",
    "                #place marker on position\n",
    "            place_marker(the_board,player2_marker,position)\n",
    "                \n",
    "                #check if they won\n",
    "                \n",
    "            if check_win(the_board,player2_marker):\n",
    "                display_board(the_board)\n",
    "                print('PLAYER 2 HAS WON!!')\n",
    "                game_on=False\n",
    "            else:\n",
    "                if check_full_board(the_board):\n",
    "                    display_board(the_board)\n",
    "                    print(\"Tie Game\")\n",
    "                    game_on=False\n",
    "                else:\n",
    "                    turn='Player 1'\n",
    "                \n",
    "    if not replay():\n",
    "        break"
   ]
  },
  {
   "cell_type": "markdown",
   "metadata": {},
   "source": []
  },
  {
   "cell_type": "code",
   "execution_count": null,
   "metadata": {},
   "outputs": [],
   "source": []
  }
 ],
 "metadata": {
  "kernelspec": {
   "display_name": "Python 3",
   "language": "python",
   "name": "python3"
  },
  "language_info": {
   "codemirror_mode": {
    "name": "ipython",
    "version": 3
   },
   "file_extension": ".py",
   "mimetype": "text/x-python",
   "name": "python",
   "nbconvert_exporter": "python",
   "pygments_lexer": "ipython3",
   "version": "3.6.5"
  }
 },
 "nbformat": 4,
 "nbformat_minor": 2
}
